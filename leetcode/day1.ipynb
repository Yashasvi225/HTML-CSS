{
  "nbformat": 4,
  "nbformat_minor": 0,
  "metadata": {
    "colab": {
      "provenance": [],
      "authorship_tag": "ABX9TyPdE/iYtIDf/wRtoGlakbfB",
      "include_colab_link": true
    },
    "kernelspec": {
      "name": "python3",
      "display_name": "Python 3"
    },
    "language_info": {
      "name": "python"
    }
  },
  "cells": [
    {
      "cell_type": "markdown",
      "metadata": {
        "id": "view-in-github",
        "colab_type": "text"
      },
      "source": [
        "<a href=\"https://colab.research.google.com/github/Yashasvi225/HTML-CSS/blob/main/leetcode/day1.ipynb\" target=\"_parent\"><img src=\"https://colab.research.google.com/assets/colab-badge.svg\" alt=\"Open In Colab\"/></a>"
      ]
    },
    {
      "cell_type": "code",
      "source": [
        "l = [3,2,2,3]\n",
        "t = 3\n",
        "for i in range (len(l)):\n",
        "  if t == l[i]:\n",
        "    print(i)"
      ],
      "metadata": {
        "colab": {
          "base_uri": "https://localhost:8080/"
        },
        "id": "6ANGeZul3A-H",
        "outputId": "0cab4a93-abd3-44fe-dce2-40dc721508d6"
      },
      "execution_count": null,
      "outputs": [
        {
          "output_type": "stream",
          "name": "stdout",
          "text": [
            "0\n",
            "3\n"
          ]
        }
      ]
    },
    {
      "cell_type": "code",
      "source": [
        "l = [3,2,2,3]\n",
        "t = 3\n",
        "k = 0\n",
        "for i in range (len(l)):# traverse\n",
        "  if l[i] != t:\n",
        "    l[k] = l[i]\n",
        "    k += 1\n",
        "print(k)\n",
        "print(l)\n"
      ],
      "metadata": {
        "colab": {
          "base_uri": "https://localhost:8080/"
        },
        "id": "YA1hO7Q34lJj",
        "outputId": "c81198bb-ef3a-409b-b429-1f39991a5328"
      },
      "execution_count": null,
      "outputs": [
        {
          "output_type": "stream",
          "name": "stdout",
          "text": [
            "2\n",
            "[2, 2, 2, 3]\n"
          ]
        }
      ]
    },
    {
      "cell_type": "code",
      "source": [
        "l = [0,1,2,2,3,0,4,2]\n",
        "val = 2\n",
        "k = 0\n",
        "for i in range (len(l)):\n",
        "  if l[i] != val:\n",
        "    l[k] = l[i]\n",
        "    k += 1\n",
        "print(k)\n",
        "print(l)"
      ],
      "metadata": {
        "colab": {
          "base_uri": "https://localhost:8080/"
        },
        "id": "ATYm_RQ79QyK",
        "outputId": "0858e227-4d28-4fbc-c959-2311e34e2506"
      },
      "execution_count": null,
      "outputs": [
        {
          "output_type": "stream",
          "name": "stdout",
          "text": [
            "5\n",
            "[0, 1, 3, 0, 4, 0, 4, 2]\n"
          ]
        }
      ]
    }
  ]
}